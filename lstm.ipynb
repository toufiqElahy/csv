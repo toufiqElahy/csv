{
  "cells": [
    {
      "metadata": {
        "_uuid": "edaf59c5ec111bf128089f906d74db55d9aa22e5",
        "_cell_guid": "8fa4d3ab-d84c-454e-b147-bbec7e16d8fd",
        "trusted": false,
        "collapsed": true
      },
      "cell_type": "code",
      "source": "# This Python 3 environment comes with many helpful analytics libraries installed\n# It is defined by the kaggle/python docker image: https://github.com/kaggle/docker-python\n# For example, here's several helpful packages to load in \n\nimport numpy as np # linear algebra\nimport pandas as pd # data processing, CSV file I/O (e.g. pd.read_csv)\nfrom keras.models import Sequential\nfrom keras.layers import LSTM,Dense\nfrom sklearn.preprocessing import MinMaxScaler\nimport matplotlib.pyplot as plt\n# Input data files are available in the \"../input/\" directory.\n# For example, running this (by clicking run or pressing Shift+Enter) will list the files in the input directory\n\nfrom subprocess import check_output\nprint(check_output([\"ls\", \"../input\"]).decode(\"utf8\"))\n\n# Any results you write to the current directory are saved as output.",
      "execution_count": null,
      "outputs": []
    },
    {
      "metadata": {
        "_uuid": "b43477f948a2555e255fe61d1f7ab9df2f31fdbc",
        "trusted": false,
        "collapsed": true
      },
      "cell_type": "code",
      "source": "data = pd.read_csv('../input/all_stocks_5yr.csv')\ncl = data[data['Name']=='MMM'].Close",
      "execution_count": null,
      "outputs": []
    },
    {
      "metadata": {
        "_uuid": "22127c5d5461335faa9b7abb3dfba6b77af0dfdd",
        "trusted": false,
        "collapsed": true
      },
      "cell_type": "code",
      "source": "scl = MinMaxScaler()\n#Scale the data\ncl = cl.reshape(cl.shape[0],1)\ncl = scl.fit_transform(cl)\ncl",
      "execution_count": null,
      "outputs": []
    },
    {
      "metadata": {
        "collapsed": true,
        "_uuid": "c6ecd17dcf6dd844a6713f5d5a91c2c6c8fe2ef8",
        "trusted": false
      },
      "cell_type": "code",
      "source": "",
      "execution_count": null,
      "outputs": []
    },
    {
      "metadata": {
        "_uuid": "a54b46a90b4b8f75d2990022c7e7112f49557f0f",
        "trusted": false,
        "collapsed": true
      },
      "cell_type": "code",
      "source": "#Create a function to process the data into 7 day look back slices\ndef processData(data,lb):\n    X,Y = [],[]\n    for i in range(len(data)-lb-1):\n        X.append(data[i:(i+lb),0])\n        Y.append(data[(i+lb),0])\n    return np.array(X),np.array(Y)\nX,y = processData(cl,7)\nX_train,X_test = X[:int(X.shape[0]*0.80)],X[int(X.shape[0]*0.80):]\ny_train,y_test = y[:int(y.shape[0]*0.80)],y[int(y.shape[0]*0.80):]\nprint(X_train.shape[0])\nprint(X_test.shape[0])\nprint(y_train.shape[0])\nprint(y_test.shape[0])",
      "execution_count": null,
      "outputs": []
    },
    {
      "metadata": {
        "_uuid": "8fdc4e7203d6b9132403b77c89a7d29d14a7d065",
        "trusted": false,
        "collapsed": true
      },
      "cell_type": "code",
      "source": "#Build the model\nmodel = Sequential()\nmodel.add(LSTM(256,input_shape=(7,1)))\nmodel.add(Dense(1))\nmodel.compile(optimizer='adam',loss='mse')\n#Reshape data for (Sample,Timestep,Features) \nX_train = X_train.reshape((X_train.shape[0],X_train.shape[1],1))\nX_test = X_test.reshape((X_test.shape[0],X_test.shape[1],1))\n#Fit model with history to check for overfitting\nhistory = model.fit(X_train,y_train,epochs=300,validation_data=(X_test,y_test),shuffle=False)",
      "execution_count": null,
      "outputs": []
    },
    {
      "metadata": {
        "_uuid": "eff70c7696b47305e688eb79da46c1b5699a81a5",
        "trusted": false,
        "collapsed": true
      },
      "cell_type": "code",
      "source": "plt.plot(history.history['loss'])\nplt.plot(history.history['val_loss'])",
      "execution_count": null,
      "outputs": []
    },
    {
      "metadata": {
        "_uuid": "fd825369b1987e8fd6210a83e3cd8614a58af87f",
        "trusted": false,
        "collapsed": true
      },
      "cell_type": "code",
      "source": "X_test[0]",
      "execution_count": null,
      "outputs": []
    },
    {
      "metadata": {
        "_uuid": "0f6451a3c61399d85c94c75688077de9e029e41e",
        "trusted": false,
        "collapsed": true
      },
      "cell_type": "code",
      "source": "Xt = model.predict(X_test)\nplt.plot(scl.inverse_transform(y_test.reshape(-1,1)))\nplt.plot(scl.inverse_transform(Xt))",
      "execution_count": null,
      "outputs": []
    },
    {
      "metadata": {
        "_uuid": "5627ab313b42b5dfdcef604ad7d7cb77b188e943",
        "trusted": false,
        "collapsed": true
      },
      "cell_type": "code",
      "source": "act = []\npred = []\n#for i in range(250):\ni=249\nXt = model.predict(X_test[i].reshape(1,7,1))\nprint('predicted:{0}, actual:{1}'.format(scl.inverse_transform(Xt),scl.inverse_transform(y_test[i].reshape(-1,1))))\npred.append(scl.inverse_transform(Xt))\nact.append(scl.inverse_transform(y_test[i].reshape(-1,1)))",
      "execution_count": null,
      "outputs": []
    },
    {
      "metadata": {
        "_uuid": "bfe3f9a4f7f3ff830da08940d3a8146b7ddd9a40",
        "trusted": false,
        "collapsed": true
      },
      "cell_type": "code",
      "source": "result_df = pd.DataFrame({'pred':list(np.reshape(pred, (-1))),'act':list(np.reshape(act, (-1)))})",
      "execution_count": null,
      "outputs": []
    },
    {
      "metadata": {
        "_uuid": "19af3f5dc69dadbb47ef15226a5820b1f9401d3d",
        "trusted": false,
        "collapsed": true
      },
      "cell_type": "code",
      "source": "#result_df.plot(kind='line')",
      "execution_count": null,
      "outputs": []
    },
    {
      "metadata": {
        "_uuid": "b67f43416fb13f1c4188f391a5e7cb62569d19f5",
        "trusted": false,
        "collapsed": true
      },
      "cell_type": "code",
      "source": "Xt = model.predict(X_test)\nplt.plot(scl.inverse_transform(y_test.reshape(-1,1)))\nplt.plot(scl.inverse_transform(Xt))\n",
      "execution_count": null,
      "outputs": []
    },
    {
      "metadata": {
        "_uuid": "fa2cbe2293bfad134f3ee434c68d7c0156a494bc",
        "trusted": false,
        "collapsed": true
      },
      "cell_type": "code",
      "source": "X_test[249]",
      "execution_count": null,
      "outputs": []
    },
    {
      "metadata": {
        "_uuid": "73cdb2a39cabed64e545f92e5bd37c58181844d6",
        "trusted": false,
        "collapsed": true
      },
      "cell_type": "code",
      "source": "X_test[248]",
      "execution_count": null,
      "outputs": []
    },
    {
      "metadata": {
        "collapsed": true,
        "_uuid": "1f60018323094ecd6077df675f251a26e8879cda",
        "trusted": false
      },
      "cell_type": "code",
      "source": "",
      "execution_count": null,
      "outputs": []
    }
  ],
  "metadata": {
    "kernelspec": {
      "display_name": "Python 3",
      "language": "python",
      "name": "python3"
    },
    "language_info": {
      "name": "python",
      "version": "3.6.3",
      "mimetype": "text/x-python",
      "codemirror_mode": {
        "name": "ipython",
        "version": 3
      },
      "pygments_lexer": "ipython3",
      "nbconvert_exporter": "python",
      "file_extension": ".py"
    }
  },
  "nbformat": 4,
  "nbformat_minor": 1
}