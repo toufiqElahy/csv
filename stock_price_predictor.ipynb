{
  "nbformat": 4,
  "nbformat_minor": 0,
  "metadata": {
    "colab": {
      "name": "stock_price_predictor.ipynb",
      "version": "0.3.2",
      "views": {},
      "default_view": {},
      "provenance": []
    },
    "kernelspec": {
      "display_name": "Python 3",
      "language": "python",
      "name": "python3"
    },
    "accelerator": "GPU"
  },
  "cells": [
    {
      "metadata": {
        "id": "2XOfX4tbrcAU",
        "colab_type": "text"
      },
      "cell_type": "markdown",
      "source": [
        "# Predict Stock Price\n",
        "\n",
        "1. Get historic stock price data\n",
        "2. Extract price to predict\n",
        "3. Normalize\n",
        "4. Create Time Series\n",
        "5. Build model\n",
        "6. Fit model\n",
        "7. Test and evaluate"
      ]
    },
    {
      "metadata": {
        "id": "coWYVDujrcAV",
        "colab_type": "code",
        "colab": {
          "autoexec": {
            "startup": false,
            "wait_interval": 0
          },
          "base_uri": "https://localhost:8080/",
          "height": 945
        },
        "outputId": "27300e69-b6fd-4618-bd63-973c8a78711d",
        "executionInfo": {
          "status": "error",
          "timestamp": 1531167276106,
          "user_tz": -360,
          "elapsed": 10973,
          "user": {
            "displayName": "",
            "photoUrl": "",
            "userId": ""
          }
        }
      },
      "cell_type": "code",
      "source": [
        "from keras import backend as K\n",
        "import os\n",
        "from importlib import reload\n",
        "\n",
        "def set_keras_backend(backend):\n",
        "    if K.backend() != backend:\n",
        "        os.environ['KERAS_BACKEND'] = backend\n",
        "        reload(K)\n",
        "        assert K.backend() == backend\n",
        "\n",
        "set_keras_backend(\"cntk\")"
      ],
      "execution_count": 1,
      "outputs": [
        {
          "output_type": "stream",
          "text": [
            "Using TensorFlow backend.\n",
            "Using CNTK backend\n"
          ],
          "name": "stderr"
        },
        {
          "output_type": "error",
          "ename": "ModuleNotFoundError",
          "evalue": "ignored",
          "traceback": [
            "\u001b[0;31m---------------------------------------------------------------------------\u001b[0m",
            "\u001b[0;31mModuleNotFoundError\u001b[0m                       Traceback (most recent call last)",
            "\u001b[0;32m<ipython-input-1-215ca8c56d81>\u001b[0m in \u001b[0;36m<module>\u001b[0;34m()\u001b[0m\n\u001b[1;32m      9\u001b[0m         \u001b[0;32massert\u001b[0m \u001b[0mK\u001b[0m\u001b[0;34m.\u001b[0m\u001b[0mbackend\u001b[0m\u001b[0;34m(\u001b[0m\u001b[0;34m)\u001b[0m \u001b[0;34m==\u001b[0m \u001b[0mbackend\u001b[0m\u001b[0;34m\u001b[0m\u001b[0m\n\u001b[1;32m     10\u001b[0m \u001b[0;34m\u001b[0m\u001b[0m\n\u001b[0;32m---> 11\u001b[0;31m \u001b[0mset_keras_backend\u001b[0m\u001b[0;34m(\u001b[0m\u001b[0;34m\"cntk\"\u001b[0m\u001b[0;34m)\u001b[0m\u001b[0;34m\u001b[0m\u001b[0m\n\u001b[0m",
            "\u001b[0;32m<ipython-input-1-215ca8c56d81>\u001b[0m in \u001b[0;36mset_keras_backend\u001b[0;34m(backend)\u001b[0m\n\u001b[1;32m      6\u001b[0m     \u001b[0;32mif\u001b[0m \u001b[0mK\u001b[0m\u001b[0;34m.\u001b[0m\u001b[0mbackend\u001b[0m\u001b[0;34m(\u001b[0m\u001b[0;34m)\u001b[0m \u001b[0;34m!=\u001b[0m \u001b[0mbackend\u001b[0m\u001b[0;34m:\u001b[0m\u001b[0;34m\u001b[0m\u001b[0m\n\u001b[1;32m      7\u001b[0m         \u001b[0mos\u001b[0m\u001b[0;34m.\u001b[0m\u001b[0menviron\u001b[0m\u001b[0;34m[\u001b[0m\u001b[0;34m'KERAS_BACKEND'\u001b[0m\u001b[0;34m]\u001b[0m \u001b[0;34m=\u001b[0m \u001b[0mbackend\u001b[0m\u001b[0;34m\u001b[0m\u001b[0m\n\u001b[0;32m----> 8\u001b[0;31m         \u001b[0mreload\u001b[0m\u001b[0;34m(\u001b[0m\u001b[0mK\u001b[0m\u001b[0;34m)\u001b[0m\u001b[0;34m\u001b[0m\u001b[0m\n\u001b[0m\u001b[1;32m      9\u001b[0m         \u001b[0;32massert\u001b[0m \u001b[0mK\u001b[0m\u001b[0;34m.\u001b[0m\u001b[0mbackend\u001b[0m\u001b[0;34m(\u001b[0m\u001b[0;34m)\u001b[0m \u001b[0;34m==\u001b[0m \u001b[0mbackend\u001b[0m\u001b[0;34m\u001b[0m\u001b[0m\n\u001b[1;32m     10\u001b[0m \u001b[0;34m\u001b[0m\u001b[0m\n",
            "\u001b[0;32m/usr/lib/python3.6/importlib/__init__.py\u001b[0m in \u001b[0;36mreload\u001b[0;34m(module)\u001b[0m\n\u001b[1;32m    164\u001b[0m         \u001b[0mtarget\u001b[0m \u001b[0;34m=\u001b[0m \u001b[0mmodule\u001b[0m\u001b[0;34m\u001b[0m\u001b[0m\n\u001b[1;32m    165\u001b[0m         \u001b[0mspec\u001b[0m \u001b[0;34m=\u001b[0m \u001b[0mmodule\u001b[0m\u001b[0;34m.\u001b[0m\u001b[0m__spec__\u001b[0m \u001b[0;34m=\u001b[0m \u001b[0m_bootstrap\u001b[0m\u001b[0;34m.\u001b[0m\u001b[0m_find_spec\u001b[0m\u001b[0;34m(\u001b[0m\u001b[0mname\u001b[0m\u001b[0;34m,\u001b[0m \u001b[0mpkgpath\u001b[0m\u001b[0;34m,\u001b[0m \u001b[0mtarget\u001b[0m\u001b[0;34m)\u001b[0m\u001b[0;34m\u001b[0m\u001b[0m\n\u001b[0;32m--> 166\u001b[0;31m         \u001b[0m_bootstrap\u001b[0m\u001b[0;34m.\u001b[0m\u001b[0m_exec\u001b[0m\u001b[0;34m(\u001b[0m\u001b[0mspec\u001b[0m\u001b[0;34m,\u001b[0m \u001b[0mmodule\u001b[0m\u001b[0;34m)\u001b[0m\u001b[0;34m\u001b[0m\u001b[0m\n\u001b[0m\u001b[1;32m    167\u001b[0m         \u001b[0;31m# The module may have replaced itself in sys.modules!\u001b[0m\u001b[0;34m\u001b[0m\u001b[0;34m\u001b[0m\u001b[0m\n\u001b[1;32m    168\u001b[0m         \u001b[0;32mreturn\u001b[0m \u001b[0msys\u001b[0m\u001b[0;34m.\u001b[0m\u001b[0mmodules\u001b[0m\u001b[0;34m[\u001b[0m\u001b[0mname\u001b[0m\u001b[0;34m]\u001b[0m\u001b[0;34m\u001b[0m\u001b[0m\n",
            "\u001b[0;32m/usr/lib/python3.6/importlib/_bootstrap.py\u001b[0m in \u001b[0;36m_exec\u001b[0;34m(spec, module)\u001b[0m\n",
            "\u001b[0;32m/usr/lib/python3.6/importlib/_bootstrap_external.py\u001b[0m in \u001b[0;36mexec_module\u001b[0;34m(self, module)\u001b[0m\n",
            "\u001b[0;32m/usr/lib/python3.6/importlib/_bootstrap.py\u001b[0m in \u001b[0;36m_call_with_frames_removed\u001b[0;34m(f, *args, **kwds)\u001b[0m\n",
            "\u001b[0;32m/usr/local/lib/python3.6/dist-packages/keras/backend/__init__.py\u001b[0m in \u001b[0;36m<module>\u001b[0;34m()\u001b[0m\n\u001b[1;32m     76\u001b[0m \u001b[0;32mif\u001b[0m \u001b[0m_BACKEND\u001b[0m \u001b[0;34m==\u001b[0m \u001b[0;34m'cntk'\u001b[0m\u001b[0;34m:\u001b[0m\u001b[0;34m\u001b[0m\u001b[0m\n\u001b[1;32m     77\u001b[0m     \u001b[0msys\u001b[0m\u001b[0;34m.\u001b[0m\u001b[0mstderr\u001b[0m\u001b[0;34m.\u001b[0m\u001b[0mwrite\u001b[0m\u001b[0;34m(\u001b[0m\u001b[0;34m'Using CNTK backend\\n'\u001b[0m\u001b[0;34m)\u001b[0m\u001b[0;34m\u001b[0m\u001b[0m\n\u001b[0;32m---> 78\u001b[0;31m     \u001b[0;32mfrom\u001b[0m \u001b[0;34m.\u001b[0m\u001b[0mcntk_backend\u001b[0m \u001b[0;32mimport\u001b[0m \u001b[0;34m*\u001b[0m\u001b[0;34m\u001b[0m\u001b[0m\n\u001b[0m\u001b[1;32m     79\u001b[0m \u001b[0;32melif\u001b[0m \u001b[0m_BACKEND\u001b[0m \u001b[0;34m==\u001b[0m \u001b[0;34m'theano'\u001b[0m\u001b[0;34m:\u001b[0m\u001b[0;34m\u001b[0m\u001b[0m\n\u001b[1;32m     80\u001b[0m     \u001b[0msys\u001b[0m\u001b[0;34m.\u001b[0m\u001b[0mstderr\u001b[0m\u001b[0;34m.\u001b[0m\u001b[0mwrite\u001b[0m\u001b[0;34m(\u001b[0m\u001b[0;34m'Using Theano backend.\\n'\u001b[0m\u001b[0;34m)\u001b[0m\u001b[0;34m\u001b[0m\u001b[0m\n",
            "\u001b[0;32m/usr/local/lib/python3.6/dist-packages/keras/backend/cntk_backend.py\u001b[0m in \u001b[0;36m<module>\u001b[0;34m()\u001b[0m\n\u001b[1;32m      3\u001b[0m \u001b[0;32mfrom\u001b[0m \u001b[0m__future__\u001b[0m \u001b[0;32mimport\u001b[0m \u001b[0mprint_function\u001b[0m\u001b[0;34m\u001b[0m\u001b[0m\n\u001b[1;32m      4\u001b[0m \u001b[0;34m\u001b[0m\u001b[0m\n\u001b[0;32m----> 5\u001b[0;31m \u001b[0;32mimport\u001b[0m \u001b[0mcntk\u001b[0m \u001b[0;32mas\u001b[0m \u001b[0mC\u001b[0m\u001b[0;34m\u001b[0m\u001b[0m\n\u001b[0m\u001b[1;32m      6\u001b[0m \u001b[0;32mimport\u001b[0m \u001b[0mnumpy\u001b[0m \u001b[0;32mas\u001b[0m \u001b[0mnp\u001b[0m\u001b[0;34m\u001b[0m\u001b[0m\n\u001b[1;32m      7\u001b[0m \u001b[0;32mfrom\u001b[0m \u001b[0;34m.\u001b[0m\u001b[0mcommon\u001b[0m \u001b[0;32mimport\u001b[0m \u001b[0mfloatx\u001b[0m\u001b[0;34m,\u001b[0m \u001b[0mepsilon\u001b[0m\u001b[0;34m,\u001b[0m \u001b[0mimage_dim_ordering\u001b[0m\u001b[0;34m,\u001b[0m \u001b[0mimage_data_format\u001b[0m\u001b[0;34m\u001b[0m\u001b[0m\n",
            "\u001b[0;31mModuleNotFoundError\u001b[0m: No module named 'cntk'",
            "",
            "\u001b[0;31m---------------------------------------------------------------------------\u001b[0;32m\nNOTE: If your import is failing due to a missing package, you can\nmanually install dependencies using either !pip or !apt.\n\nTo view examples of installing some common dependencies, click the\n\"Open Examples\" button below.\n\u001b[0;31m---------------------------------------------------------------------------\u001b[0m\n"
          ]
        }
      ]
    },
    {
      "metadata": {
        "id": "qhsFyQXarcAb",
        "colab_type": "code",
        "colab": {
          "autoexec": {
            "startup": false,
            "wait_interval": 0
          },
          "base_uri": "https://localhost:8080/",
          "height": 71
        },
        "outputId": "826cdb27-e440-4cb9-e1a6-35b7da58eb25",
        "executionInfo": {
          "status": "ok",
          "timestamp": 1531167295844,
          "user_tz": -360,
          "elapsed": 1525,
          "user": {
            "displayName": "",
            "photoUrl": "",
            "userId": ""
          }
        }
      },
      "cell_type": "code",
      "source": [
        "import numpy as np # linear algebra\n",
        "import pandas as pd # data processing, CSV file I/O (e.g. pd.read_csv)\n",
        "from keras.layers.core import Dense, Activation, Dropout\n",
        "from keras.layers.recurrent import LSTM\n",
        "from keras.models import Sequential\n",
        "from sklearn.cross_validation import  train_test_split\n",
        "from sklearn.preprocessing import MinMaxScaler\n",
        "from sklearn.metrics import mean_squared_error\n",
        "import matplotlib.pyplot as plt\n",
        "import math"
      ],
      "execution_count": 2,
      "outputs": [
        {
          "output_type": "stream",
          "text": [
            "/usr/local/lib/python3.6/dist-packages/sklearn/cross_validation.py:41: DeprecationWarning: This module was deprecated in version 0.18 in favor of the model_selection module into which all the refactored classes and functions are moved. Also note that the interface of the new CV iterators are different from that of this module. This module will be removed in 0.20.\n",
            "  \"This module will be removed in 0.20.\", DeprecationWarning)\n"
          ],
          "name": "stderr"
        }
      ]
    },
    {
      "metadata": {
        "id": "oT0KrrElrcAg",
        "colab_type": "code",
        "colab": {
          "autoexec": {
            "startup": false,
            "wait_interval": 0
          },
          "base_uri": "https://localhost:8080/",
          "height": 17
        },
        "outputId": "4e9ad9f5-3454-4fcd-c4a5-030fe38c076c",
        "executionInfo": {
          "status": "ok",
          "timestamp": 1531167301402,
          "user_tz": -360,
          "elapsed": 1098,
          "user": {
            "displayName": "",
            "photoUrl": "",
            "userId": ""
          }
        }
      },
      "cell_type": "code",
      "source": [
        "np.random.seed(7)"
      ],
      "execution_count": 3,
      "outputs": []
    },
    {
      "metadata": {
        "id": "L6W1Ki-1rcAj",
        "colab_type": "code",
        "colab": {
          "autoexec": {
            "startup": false,
            "wait_interval": 0
          },
          "base_uri": "https://localhost:8080/",
          "height": 204
        },
        "outputId": "5ddfb7f7-b87b-4ef9-f30c-16007201b22f",
        "executionInfo": {
          "status": "ok",
          "timestamp": 1531167369963,
          "user_tz": -360,
          "elapsed": 1036,
          "user": {
            "displayName": "",
            "photoUrl": "",
            "userId": ""
          }
        }
      },
      "cell_type": "code",
      "source": [
        "#load the dataset\n",
        "msft_dataset = pd.read_csv('https://raw.githubusercontent.com/toufiqElahy/csv/master/BIG.csv')\n",
        "msft_dataset.head()"
      ],
      "execution_count": 8,
      "outputs": [
        {
          "output_type": "execute_result",
          "data": {
            "text/html": [
              "<div>\n",
              "<style scoped>\n",
              "    .dataframe tbody tr th:only-of-type {\n",
              "        vertical-align: middle;\n",
              "    }\n",
              "\n",
              "    .dataframe tbody tr th {\n",
              "        vertical-align: top;\n",
              "    }\n",
              "\n",
              "    .dataframe thead th {\n",
              "        text-align: right;\n",
              "    }\n",
              "</style>\n",
              "<table border=\"1\" class=\"dataframe\">\n",
              "  <thead>\n",
              "    <tr style=\"text-align: right;\">\n",
              "      <th></th>\n",
              "      <th>Unnamed: 0</th>\n",
              "      <th>Code</th>\n",
              "      <th>Ex</th>\n",
              "      <th>Date</th>\n",
              "      <th>Open</th>\n",
              "      <th>High</th>\n",
              "      <th>Low</th>\n",
              "      <th>Close</th>\n",
              "      <th>Adjusted_close</th>\n",
              "      <th>Volume</th>\n",
              "      <th>Prev_close</th>\n",
              "      <th>Change</th>\n",
              "      <th>Change_%</th>\n",
              "    </tr>\n",
              "  </thead>\n",
              "  <tbody>\n",
              "    <tr>\n",
              "      <th>0</th>\n",
              "      <td>2980</td>\n",
              "      <td>BIG</td>\n",
              "      <td>US</td>\n",
              "      <td>2012-01-03</td>\n",
              "      <td>38.25</td>\n",
              "      <td>38.925</td>\n",
              "      <td>38.05</td>\n",
              "      <td>38.20</td>\n",
              "      <td>35.2884</td>\n",
              "      <td>969600.0</td>\n",
              "      <td>NaN</td>\n",
              "      <td>NaN</td>\n",
              "      <td>NaN</td>\n",
              "    </tr>\n",
              "    <tr>\n",
              "      <th>1</th>\n",
              "      <td>2983</td>\n",
              "      <td>BIG</td>\n",
              "      <td>US</td>\n",
              "      <td>2012-01-04</td>\n",
              "      <td>38.20</td>\n",
              "      <td>38.765</td>\n",
              "      <td>37.98</td>\n",
              "      <td>38.60</td>\n",
              "      <td>35.6579</td>\n",
              "      <td>1216600.0</td>\n",
              "      <td>NaN</td>\n",
              "      <td>NaN</td>\n",
              "      <td>NaN</td>\n",
              "    </tr>\n",
              "    <tr>\n",
              "      <th>2</th>\n",
              "      <td>2983</td>\n",
              "      <td>BIG</td>\n",
              "      <td>US</td>\n",
              "      <td>2012-01-05</td>\n",
              "      <td>38.44</td>\n",
              "      <td>38.730</td>\n",
              "      <td>37.65</td>\n",
              "      <td>38.70</td>\n",
              "      <td>35.7502</td>\n",
              "      <td>236894.0</td>\n",
              "      <td>NaN</td>\n",
              "      <td>NaN</td>\n",
              "      <td>NaN</td>\n",
              "    </tr>\n",
              "    <tr>\n",
              "      <th>3</th>\n",
              "      <td>2975</td>\n",
              "      <td>BIG</td>\n",
              "      <td>US</td>\n",
              "      <td>2012-01-06</td>\n",
              "      <td>38.59</td>\n",
              "      <td>38.620</td>\n",
              "      <td>38.06</td>\n",
              "      <td>38.16</td>\n",
              "      <td>35.2514</td>\n",
              "      <td>210920.0</td>\n",
              "      <td>NaN</td>\n",
              "      <td>NaN</td>\n",
              "      <td>NaN</td>\n",
              "    </tr>\n",
              "    <tr>\n",
              "      <th>4</th>\n",
              "      <td>2982</td>\n",
              "      <td>BIG</td>\n",
              "      <td>US</td>\n",
              "      <td>2012-01-09</td>\n",
              "      <td>38.08</td>\n",
              "      <td>38.450</td>\n",
              "      <td>37.65</td>\n",
              "      <td>38.18</td>\n",
              "      <td>35.2699</td>\n",
              "      <td>827600.0</td>\n",
              "      <td>NaN</td>\n",
              "      <td>NaN</td>\n",
              "      <td>NaN</td>\n",
              "    </tr>\n",
              "  </tbody>\n",
              "</table>\n",
              "</div>"
            ],
            "text/plain": [
              "   Unnamed: 0 Code  Ex        Date   Open    High    Low  Close  \\\n",
              "0        2980  BIG  US  2012-01-03  38.25  38.925  38.05  38.20   \n",
              "1        2983  BIG  US  2012-01-04  38.20  38.765  37.98  38.60   \n",
              "2        2983  BIG  US  2012-01-05  38.44  38.730  37.65  38.70   \n",
              "3        2975  BIG  US  2012-01-06  38.59  38.620  38.06  38.16   \n",
              "4        2982  BIG  US  2012-01-09  38.08  38.450  37.65  38.18   \n",
              "\n",
              "   Adjusted_close     Volume  Prev_close  Change  Change_%  \n",
              "0         35.2884   969600.0         NaN     NaN       NaN  \n",
              "1         35.6579  1216600.0         NaN     NaN       NaN  \n",
              "2         35.7502   236894.0         NaN     NaN       NaN  \n",
              "3         35.2514   210920.0         NaN     NaN       NaN  \n",
              "4         35.2699   827600.0         NaN     NaN       NaN  "
            ]
          },
          "metadata": {
            "tags": []
          },
          "execution_count": 8
        }
      ]
    },
    {
      "metadata": {
        "id": "kzjZg3HWrcAn",
        "colab_type": "code",
        "colab": {
          "autoexec": {
            "startup": false,
            "wait_interval": 0
          },
          "base_uri": "https://localhost:8080/",
          "height": 255
        },
        "outputId": "d1ca2fe0-e7f1-4d47-fad6-4f9c0e73ca6f",
        "executionInfo": {
          "status": "ok",
          "timestamp": 1531167375615,
          "user_tz": -360,
          "elapsed": 1114,
          "user": {
            "displayName": "",
            "photoUrl": "",
            "userId": ""
          }
        }
      },
      "cell_type": "code",
      "source": [
        "msft_dataset.dtypes"
      ],
      "execution_count": 9,
      "outputs": [
        {
          "output_type": "execute_result",
          "data": {
            "text/plain": [
              "Unnamed: 0          int64\n",
              "Code               object\n",
              "Ex                 object\n",
              "Date               object\n",
              "Open              float64\n",
              "High              float64\n",
              "Low               float64\n",
              "Close             float64\n",
              "Adjusted_close    float64\n",
              "Volume            float64\n",
              "Prev_close        float64\n",
              "Change            float64\n",
              "Change_%          float64\n",
              "dtype: object"
            ]
          },
          "metadata": {
            "tags": []
          },
          "execution_count": 9
        }
      ]
    },
    {
      "metadata": {
        "id": "hvORa2gGrcAv",
        "colab_type": "code",
        "colab": {
          "autoexec": {
            "startup": false,
            "wait_interval": 0
          },
          "base_uri": "https://localhost:8080/",
          "height": 17
        },
        "outputId": "e22d9ffa-1748-438d-e68b-6898e5eab4aa",
        "executionInfo": {
          "status": "ok",
          "timestamp": 1531167384018,
          "user_tz": -360,
          "elapsed": 2421,
          "user": {
            "displayName": "",
            "photoUrl": "",
            "userId": ""
          }
        }
      },
      "cell_type": "code",
      "source": [
        "msft_dataset['Date'] = pd.to_datetime(msft_dataset['Date'])\n",
        "msft_dataset['Close'] = pd.to_numeric(msft_dataset['Close'], downcast='float')"
      ],
      "execution_count": 10,
      "outputs": []
    },
    {
      "metadata": {
        "id": "CXpRbWMgrcAy",
        "colab_type": "code",
        "colab": {
          "autoexec": {
            "startup": false,
            "wait_interval": 0
          },
          "base_uri": "https://localhost:8080/",
          "height": 306
        },
        "outputId": "5234e0b5-803f-4f39-f4f0-ca81a68f10da",
        "executionInfo": {
          "status": "ok",
          "timestamp": 1531167398429,
          "user_tz": -360,
          "elapsed": 1278,
          "user": {
            "displayName": "",
            "photoUrl": "",
            "userId": ""
          }
        }
      },
      "cell_type": "code",
      "source": [
        "msft_dataset.set_index('Date',inplace=True)\n",
        "msft_dataset.info()"
      ],
      "execution_count": 12,
      "outputs": [
        {
          "output_type": "stream",
          "text": [
            "<class 'pandas.core.frame.DataFrame'>\n",
            "DatetimeIndex: 1634 entries, 2012-01-03 to 2018-06-29\n",
            "Data columns (total 12 columns):\n",
            "Unnamed: 0        1634 non-null int64\n",
            "Code              1634 non-null object\n",
            "Ex                1634 non-null object\n",
            "Open              1634 non-null float64\n",
            "High              1634 non-null float64\n",
            "Low               1634 non-null float64\n",
            "Close             1634 non-null float32\n",
            "Adjusted_close    1634 non-null float64\n",
            "Volume            1634 non-null float64\n",
            "Prev_close        0 non-null float64\n",
            "Change            0 non-null float64\n",
            "Change_%          0 non-null float64\n",
            "dtypes: float32(1), float64(8), int64(1), object(2)\n",
            "memory usage: 159.6+ KB\n"
          ],
          "name": "stdout"
        }
      ]
    },
    {
      "metadata": {
        "id": "R3URYpiQrcA4",
        "colab_type": "code",
        "colab": {
          "autoexec": {
            "startup": false,
            "wait_interval": 0
          },
          "base_uri": "https://localhost:8080/",
          "height": 17
        },
        "outputId": "a37ae0fa-14fe-4f79-980e-04dd16bed772",
        "executionInfo": {
          "status": "ok",
          "timestamp": 1531167405066,
          "user_tz": -360,
          "elapsed": 1044,
          "user": {
            "displayName": "",
            "photoUrl": "",
            "userId": ""
          }
        }
      },
      "cell_type": "code",
      "source": [
        "msft_dataset.sort_index(inplace=True)"
      ],
      "execution_count": 13,
      "outputs": []
    },
    {
      "metadata": {
        "id": "9MVkd-YMrcBA",
        "colab_type": "code",
        "colab": {
          "autoexec": {
            "startup": false,
            "wait_interval": 0
          },
          "base_uri": "https://localhost:8080/",
          "height": 347
        },
        "outputId": "757d6504-a5f8-4227-e9a3-de51bf75af4e",
        "executionInfo": {
          "status": "ok",
          "timestamp": 1531167414624,
          "user_tz": -360,
          "elapsed": 1648,
          "user": {
            "displayName": "",
            "photoUrl": "",
            "userId": ""
          }
        }
      },
      "cell_type": "code",
      "source": [
        "#extract just close prices as that is what we want to predict\n",
        "msft_close = msft_dataset['Close']\n",
        "msft_close = msft_close.values.reshape(len(msft_close), 1)\n",
        "plt.plot(msft_close)\n",
        "plt.show()"
      ],
      "execution_count": 14,
      "outputs": [
        {
          "output_type": "display_data",
          "data": {
            "image/png": "[encoded data removed]",
            "text/plain": [
              "<matplotlib.figure.Figure at 0x7f46570a8898>"
            ]
          },
          "metadata": {
            "tags": []
          }
        }
      ]
    },
    {
      "metadata": {
        "id": "P6-bmRWdrcBF",
        "colab_type": "code",
        "colab": {
          "autoexec": {
            "startup": false,
            "wait_interval": 0
          },
          "base_uri": "https://localhost:8080/",
          "height": 17
        },
        "outputId": "6ac33f13-c7f4-4f51-e082-5c7abe9f1769",
        "executionInfo": {
          "status": "ok",
          "timestamp": 1531167427102,
          "user_tz": -360,
          "elapsed": 2315,
          "user": {
            "displayName": "",
            "photoUrl": "",
            "userId": ""
          }
        }
      },
      "cell_type": "code",
      "source": [
        "#normalize data\n",
        "scaler = MinMaxScaler(feature_range=(0,1))"
      ],
      "execution_count": 15,
      "outputs": []
    },
    {
      "metadata": {
        "id": "XySINfZLrcBH",
        "colab_type": "code",
        "colab": {
          "autoexec": {
            "startup": false,
            "wait_interval": 0
          },
          "base_uri": "https://localhost:8080/",
          "height": 136
        },
        "outputId": "908a7926-3a61-4067-ab33-fd946887cc52",
        "executionInfo": {
          "status": "ok",
          "timestamp": 1531167431798,
          "user_tz": -360,
          "elapsed": 1090,
          "user": {
            "displayName": "",
            "photoUrl": "",
            "userId": ""
          }
        }
      },
      "cell_type": "code",
      "source": [
        "msft_close = scaler.fit_transform(msft_close)\n",
        "msft_close"
      ],
      "execution_count": 16,
      "outputs": [
        {
          "output_type": "execute_result",
          "data": {
            "text/plain": [
              "array([[0.32433134],\n",
              "       [0.33471823],\n",
              "       [0.33731496],\n",
              "       ...,\n",
              "       [0.42794073],\n",
              "       [0.423007  ],\n",
              "       [0.41729414]], dtype=float32)"
            ]
          },
          "metadata": {
            "tags": []
          },
          "execution_count": 16
        }
      ]
    },
    {
      "metadata": {
        "id": "9zMaJyVLrcBU",
        "colab_type": "code",
        "colab": {
          "autoexec": {
            "startup": false,
            "wait_interval": 0
          },
          "base_uri": "https://localhost:8080/",
          "height": 34
        },
        "outputId": "bb977361-6e64-4513-9c16-e60bab1a81f8",
        "executionInfo": {
          "status": "ok",
          "timestamp": 1531167443841,
          "user_tz": -360,
          "elapsed": 1201,
          "user": {
            "displayName": "",
            "photoUrl": "",
            "userId": ""
          }
        }
      },
      "cell_type": "code",
      "source": [
        "#split data into train and test\n",
        "train_size = int(len(msft_close)* 0.7)\n",
        "test_size = len(msft_close) - train_size\n",
        "\n",
        "msft_train, msft_test = msft_close[0:train_size, :], msft_close[train_size:len(msft_close), :]\n",
        "\n",
        "print('Split data into train and test: ', len(msft_train), len(msft_test))"
      ],
      "execution_count": 17,
      "outputs": [
        {
          "output_type": "stream",
          "text": [
            "Split data into train and test:  1143 491\n"
          ],
          "name": "stdout"
        }
      ]
    },
    {
      "metadata": {
        "id": "j1YyEc82rcBb",
        "colab_type": "code",
        "colab": {
          "autoexec": {
            "startup": false,
            "wait_interval": 0
          },
          "base_uri": "https://localhost:8080/",
          "height": 17
        },
        "outputId": "40f51fd7-1021-49b7-dc96-902bc91d0c44",
        "executionInfo": {
          "status": "ok",
          "timestamp": 1531167463012,
          "user_tz": -360,
          "elapsed": 1902,
          "user": {
            "displayName": "",
            "photoUrl": "",
            "userId": ""
          }
        }
      },
      "cell_type": "code",
      "source": [
        "#need to now convert the data into time series looking back over a period of days...e.g. use last 7 days to predict price\n",
        "\n",
        "def create_ts(ds, series):\n",
        "    X, Y =[], []\n",
        "    for i in range(len(ds)-series - 1):\n",
        "        item = ds[i:(i+series), 0]\n",
        "        X.append(item)\n",
        "        Y.append(ds[i+series, 0])\n",
        "    return np.array(X), np.array(Y)\n",
        "\n",
        "series = 7\n",
        "\n",
        "trainX, trainY = create_ts(msft_train, series)\n",
        "testX, testY = create_ts(msft_test, series)\n"
      ],
      "execution_count": 18,
      "outputs": []
    },
    {
      "metadata": {
        "id": "BIPmVoevrcBe",
        "colab_type": "code",
        "colab": {
          "autoexec": {
            "startup": false,
            "wait_interval": 0
          },
          "base_uri": "https://localhost:8080/",
          "height": 238
        },
        "outputId": "d65214ad-826a-4b8d-fbcc-f9bad0e6f08f",
        "executionInfo": {
          "status": "ok",
          "timestamp": 1531167469561,
          "user_tz": -360,
          "elapsed": 1000,
          "user": {
            "displayName": "",
            "photoUrl": "",
            "userId": ""
          }
        }
      },
      "cell_type": "code",
      "source": [
        "trainX"
      ],
      "execution_count": 19,
      "outputs": [
        {
          "output_type": "execute_result",
          "data": {
            "text/plain": [
              "array([[0.32433134, 0.33471823, 0.33731496, ..., 0.323812  , 0.33367956,\n",
              "        0.31680083],\n",
              "       [0.33471823, 0.33731496, 0.3232926 , ..., 0.33367956, 0.31680083,\n",
              "        0.31316543],\n",
              "       [0.33731496, 0.3232926 , 0.323812  , ..., 0.31680083, 0.31316543,\n",
              "        0.30823165],\n",
              "       ...,\n",
              "       [0.6302259 , 0.6330823 , 0.63775635, ..., 0.69696176, 0.70163584,\n",
              "        0.6863152 ],\n",
              "       [0.6330823 , 0.63775635, 0.65930915, ..., 0.70163584, 0.6863152 ,\n",
              "        0.66580105],\n",
              "       [0.63775635, 0.65930915, 0.69696176, ..., 0.6863152 , 0.66580105,\n",
              "        0.6663203 ]], dtype=float32)"
            ]
          },
          "metadata": {
            "tags": []
          },
          "execution_count": 19
        }
      ]
    },
    {
      "metadata": {
        "id": "-OiOJMeHrcBm",
        "colab_type": "code",
        "colab": {
          "autoexec": {
            "startup": false,
            "wait_interval": 0
          },
          "base_uri": "https://localhost:8080/",
          "height": 51
        },
        "outputId": "0fa83933-2814-4550-b67e-ffb6e82ca900",
        "executionInfo": {
          "status": "ok",
          "timestamp": 1531167479478,
          "user_tz": -360,
          "elapsed": 4240,
          "user": {
            "displayName": "",
            "photoUrl": "",
            "userId": ""
          }
        }
      },
      "cell_type": "code",
      "source": [
        "trainX[0]"
      ],
      "execution_count": 20,
      "outputs": [
        {
          "output_type": "execute_result",
          "data": {
            "text/plain": [
              "array([0.32433134, 0.33471823, 0.33731496, 0.3232926 , 0.323812  ,\n",
              "       0.33367956, 0.31680083], dtype=float32)"
            ]
          },
          "metadata": {
            "tags": []
          },
          "execution_count": 20
        }
      ]
    },
    {
      "metadata": {
        "id": "uL9ZcYLyrcBs",
        "colab_type": "code",
        "colab": {
          "autoexec": {
            "startup": false,
            "wait_interval": 0
          },
          "base_uri": "https://localhost:8080/",
          "height": 17
        },
        "outputId": "b3ca343b-2fa9-4c26-d02d-56afc792a00a",
        "executionInfo": {
          "status": "ok",
          "timestamp": 1531167541415,
          "user_tz": -360,
          "elapsed": 1049,
          "user": {
            "displayName": "",
            "photoUrl": "",
            "userId": ""
          }
        }
      },
      "cell_type": "code",
      "source": [
        "#reshape into  LSTM format - samples, steps, features\n",
        "trainX = np.reshape(trainX, (trainX.shape[0], trainX.shape[1], 1))\n",
        "testX = np.reshape(testX, (testX.shape[0], testX.shape[1], 1))"
      ],
      "execution_count": 22,
      "outputs": []
    },
    {
      "metadata": {
        "id": "g9O9PXzercBv",
        "colab_type": "code",
        "colab": {
          "autoexec": {
            "startup": false,
            "wait_interval": 0
          },
          "base_uri": "https://localhost:8080/",
          "height": 3434
        },
        "outputId": "eab7d2f6-957f-4ab3-fd84-e36e50e47b89",
        "executionInfo": {
          "status": "ok",
          "timestamp": 1531167628311,
          "user_tz": -360,
          "elapsed": 82800,
          "user": {
            "displayName": "",
            "photoUrl": "",
            "userId": ""
          }
        }
      },
      "cell_type": "code",
      "source": [
        "#build the model\n",
        "model = Sequential()\n",
        "model.add(LSTM(4, input_shape=(series, 1)))\n",
        "model.add(Dense(1))\n",
        "model.compile(loss='mse', optimizer='adam')\n",
        "#fit the model\n",
        "model.fit(trainX, trainY, epochs=100, batch_size=32)"
      ],
      "execution_count": 23,
      "outputs": [
        {
          "output_type": "stream",
          "text": [
            "Epoch 1/100\n",
            "1135/1135 [==============================] - 2s 2ms/step - loss: 0.0695\n",
            "Epoch 2/100\n",
            "1135/1135 [==============================] - 1s 691us/step - loss: 0.0217\n",
            "Epoch 3/100\n",
            "1135/1135 [==============================] - 1s 682us/step - loss: 0.0102\n",
            "Epoch 4/100\n",
            "1135/1135 [==============================] - 1s 683us/step - loss: 0.0081\n",
            "Epoch 5/100\n",
            "1135/1135 [==============================] - 1s 692us/step - loss: 0.0065\n",
            "Epoch 6/100\n",
            "1135/1135 [==============================] - 1s 683us/step - loss: 0.0051\n",
            "Epoch 7/100\n",
            "1135/1135 [==============================] - 1s 689us/step - loss: 0.0038\n",
            "Epoch 8/100\n",
            "1135/1135 [==============================] - 1s 704us/step - loss: 0.0029\n",
            "Epoch 9/100\n",
            "1135/1135 [==============================] - 1s 703us/step - loss: 0.0023\n",
            "Epoch 10/100\n",
            "1135/1135 [==============================] - 1s 706us/step - loss: 0.0019\n",
            "Epoch 11/100\n",
            "1135/1135 [==============================] - 1s 707us/step - loss: 0.0018\n",
            "Epoch 12/100\n",
            "1135/1135 [==============================] - 1s 705us/step - loss: 0.0017\n",
            "Epoch 13/100\n",
            " 512/1135 [============>.................] - ETA: 0s - loss: 0.0016"
          ],
          "name": "stdout"
        },
        {
          "output_type": "stream",
          "text": [
            "1135/1135 [==============================] - 1s 684us/step - loss: 0.0017\n",
            "Epoch 14/100\n",
            "1135/1135 [==============================] - 1s 694us/step - loss: 0.0017\n",
            "Epoch 15/100\n",
            "1135/1135 [==============================] - 1s 673us/step - loss: 0.0017\n",
            "Epoch 16/100\n",
            "1135/1135 [==============================] - 1s 705us/step - loss: 0.0017\n",
            "Epoch 17/100\n",
            "1135/1135 [==============================] - 1s 692us/step - loss: 0.0017\n",
            "Epoch 18/100\n",
            "1135/1135 [==============================] - 1s 710us/step - loss: 0.0016\n",
            "Epoch 19/100\n",
            "1135/1135 [==============================] - 1s 709us/step - loss: 0.0016\n",
            "Epoch 20/100\n",
            "1135/1135 [==============================] - 1s 705us/step - loss: 0.0016\n",
            "Epoch 21/100\n",
            "1135/1135 [==============================] - 1s 688us/step - loss: 0.0016\n",
            "Epoch 22/100\n",
            "1135/1135 [==============================] - 1s 694us/step - loss: 0.0016\n",
            "Epoch 23/100\n",
            "1135/1135 [==============================] - 1s 681us/step - loss: 0.0016\n",
            "Epoch 24/100\n",
            "1135/1135 [==============================] - 1s 683us/step - loss: 0.0016\n",
            "Epoch 25/100\n",
            " 704/1135 [=================>............] - ETA: 0s - loss: 0.0018"
          ],
          "name": "stdout"
        },
        {
          "output_type": "stream",
          "text": [
            "1135/1135 [==============================] - 1s 673us/step - loss: 0.0016\n",
            "Epoch 26/100\n",
            "1135/1135 [==============================] - 1s 669us/step - loss: 0.0016\n",
            "Epoch 27/100\n",
            "1135/1135 [==============================] - 1s 678us/step - loss: 0.0016\n",
            "Epoch 28/100\n",
            "1135/1135 [==============================] - 1s 686us/step - loss: 0.0016\n",
            "Epoch 29/100\n",
            "1135/1135 [==============================] - 1s 702us/step - loss: 0.0016\n",
            "Epoch 30/100\n",
            "1135/1135 [==============================] - 1s 686us/step - loss: 0.0015\n",
            "Epoch 31/100\n",
            "1135/1135 [==============================] - 1s 692us/step - loss: 0.0015\n",
            "Epoch 32/100\n",
            "1135/1135 [==============================] - 1s 689us/step - loss: 0.0015\n",
            "Epoch 33/100\n",
            "1135/1135 [==============================] - 1s 697us/step - loss: 0.0015\n",
            "Epoch 34/100\n",
            "1135/1135 [==============================] - 1s 708us/step - loss: 0.0015\n",
            "Epoch 35/100\n",
            "1135/1135 [==============================] - 1s 711us/step - loss: 0.0015\n",
            "Epoch 36/100\n",
            "1135/1135 [==============================] - 1s 679us/step - loss: 0.0015\n",
            "Epoch 37/100\n",
            " 512/1135 [============>.................] - ETA: 0s - loss: 0.0016"
          ],
          "name": "stdout"
        },
        {
          "output_type": "stream",
          "text": [
            "1135/1135 [==============================] - 1s 696us/step - loss: 0.0015\n",
            "Epoch 38/100\n",
            "1135/1135 [==============================] - 1s 693us/step - loss: 0.0015\n",
            "Epoch 39/100\n",
            "1135/1135 [==============================] - 1s 708us/step - loss: 0.0015\n",
            "Epoch 40/100\n",
            "1135/1135 [==============================] - 1s 698us/step - loss: 0.0015\n",
            "Epoch 41/100\n",
            "1135/1135 [==============================] - 1s 714us/step - loss: 0.0015\n",
            "Epoch 42/100\n",
            "1135/1135 [==============================] - 1s 697us/step - loss: 0.0015\n",
            "Epoch 43/100\n",
            "1135/1135 [==============================] - 1s 700us/step - loss: 0.0015\n",
            "Epoch 44/100\n",
            "1135/1135 [==============================] - 1s 696us/step - loss: 0.0015\n",
            "Epoch 45/100\n",
            "1135/1135 [==============================] - 1s 690us/step - loss: 0.0014\n",
            "Epoch 46/100\n",
            "1135/1135 [==============================] - 1s 688us/step - loss: 0.0014\n",
            "Epoch 47/100\n",
            "1135/1135 [==============================] - 1s 687us/step - loss: 0.0014\n",
            "Epoch 48/100\n",
            "1135/1135 [==============================] - 1s 694us/step - loss: 0.0014\n",
            "Epoch 49/100\n",
            " 672/1135 [================>.............] - ETA: 0s - loss: 0.0013"
          ],
          "name": "stdout"
        },
        {
          "output_type": "stream",
          "text": [
            "1135/1135 [==============================] - 1s 707us/step - loss: 0.0014\n",
            "Epoch 50/100\n",
            "1135/1135 [==============================] - 1s 690us/step - loss: 0.0014\n",
            "Epoch 51/100\n",
            "1135/1135 [==============================] - 1s 716us/step - loss: 0.0014\n",
            "Epoch 52/100\n",
            "1135/1135 [==============================] - 1s 699us/step - loss: 0.0014\n",
            "Epoch 53/100\n",
            "1135/1135 [==============================] - 1s 699us/step - loss: 0.0014\n",
            "Epoch 54/100\n",
            "1135/1135 [==============================] - 1s 706us/step - loss: 0.0014\n",
            "Epoch 55/100\n",
            "1135/1135 [==============================] - 1s 721us/step - loss: 0.0014\n",
            "Epoch 56/100\n",
            "1135/1135 [==============================] - 1s 700us/step - loss: 0.0014\n",
            "Epoch 57/100\n",
            "1135/1135 [==============================] - 1s 701us/step - loss: 0.0014\n",
            "Epoch 58/100\n",
            "1135/1135 [==============================] - 1s 712us/step - loss: 0.0014\n",
            "Epoch 59/100\n",
            "1135/1135 [==============================] - 1s 704us/step - loss: 0.0014\n",
            "Epoch 60/100\n",
            "1135/1135 [==============================] - 1s 693us/step - loss: 0.0014\n",
            "Epoch 61/100\n",
            " 416/1135 [=========>....................] - ETA: 0s - loss: 0.0010"
          ],
          "name": "stdout"
        },
        {
          "output_type": "stream",
          "text": [
            "1135/1135 [==============================] - 1s 696us/step - loss: 0.0013\n",
            "Epoch 62/100\n",
            "1135/1135 [==============================] - 1s 708us/step - loss: 0.0013\n",
            "Epoch 63/100\n",
            "1135/1135 [==============================] - 1s 688us/step - loss: 0.0013\n",
            "Epoch 64/100\n",
            "1135/1135 [==============================] - 1s 697us/step - loss: 0.0013\n",
            "Epoch 65/100\n",
            "1135/1135 [==============================] - 1s 692us/step - loss: 0.0013\n",
            "Epoch 66/100\n",
            "1135/1135 [==============================] - 1s 696us/step - loss: 0.0013\n",
            "Epoch 67/100\n",
            "1135/1135 [==============================] - 1s 687us/step - loss: 0.0013\n",
            "Epoch 68/100\n",
            "1135/1135 [==============================] - 1s 695us/step - loss: 0.0013\n",
            "Epoch 69/100\n",
            "1135/1135 [==============================] - 1s 708us/step - loss: 0.0013\n",
            "Epoch 70/100\n",
            "1135/1135 [==============================] - 1s 695us/step - loss: 0.0013\n",
            "Epoch 71/100\n",
            "1135/1135 [==============================] - 1s 686us/step - loss: 0.0013\n",
            "Epoch 72/100\n",
            "1135/1135 [==============================] - 1s 702us/step - loss: 0.0013\n",
            "Epoch 73/100\n",
            " 512/1135 [============>.................] - ETA: 0s - loss: 0.0013"
          ],
          "name": "stdout"
        },
        {
          "output_type": "stream",
          "text": [
            "1135/1135 [==============================] - 1s 692us/step - loss: 0.0013\n",
            "Epoch 74/100\n",
            "1135/1135 [==============================] - 1s 697us/step - loss: 0.0013\n",
            "Epoch 75/100\n",
            "1135/1135 [==============================] - 1s 699us/step - loss: 0.0013\n",
            "Epoch 76/100\n",
            "1135/1135 [==============================] - 1s 697us/step - loss: 0.0013\n",
            "Epoch 77/100\n",
            "1135/1135 [==============================] - 1s 686us/step - loss: 0.0012\n",
            "Epoch 78/100\n",
            "1135/1135 [==============================] - 1s 679us/step - loss: 0.0012\n",
            "Epoch 79/100\n",
            "1135/1135 [==============================] - 1s 694us/step - loss: 0.0012\n",
            "Epoch 80/100\n",
            "1135/1135 [==============================] - 1s 688us/step - loss: 0.0012\n",
            "Epoch 81/100\n",
            "1135/1135 [==============================] - 1s 705us/step - loss: 0.0012\n",
            "Epoch 82/100\n",
            "1135/1135 [==============================] - 1s 697us/step - loss: 0.0012\n",
            "Epoch 83/100\n",
            "1135/1135 [==============================] - 1s 702us/step - loss: 0.0012\n",
            "Epoch 84/100\n",
            "1135/1135 [==============================] - 1s 697us/step - loss: 0.0012\n",
            "Epoch 85/100\n",
            " 512/1135 [============>.................] - ETA: 0s - loss: 0.0013"
          ],
          "name": "stdout"
        },
        {
          "output_type": "stream",
          "text": [
            "1135/1135 [==============================] - 1s 692us/step - loss: 0.0012\n",
            "Epoch 86/100\n",
            "1135/1135 [==============================] - 1s 696us/step - loss: 0.0012\n",
            "Epoch 87/100\n",
            "1135/1135 [==============================] - 1s 670us/step - loss: 0.0012\n",
            "Epoch 88/100\n",
            "1135/1135 [==============================] - 1s 702us/step - loss: 0.0012\n",
            "Epoch 89/100\n",
            "1135/1135 [==============================] - 1s 714us/step - loss: 0.0012\n",
            "Epoch 90/100\n",
            "1135/1135 [==============================] - 1s 711us/step - loss: 0.0012\n",
            "Epoch 91/100\n",
            "1135/1135 [==============================] - 1s 710us/step - loss: 0.0012\n",
            "Epoch 92/100\n",
            "1135/1135 [==============================] - 1s 709us/step - loss: 0.0011\n",
            "Epoch 93/100\n",
            "1135/1135 [==============================] - 1s 688us/step - loss: 0.0011\n",
            "Epoch 94/100\n",
            "1135/1135 [==============================] - 1s 690us/step - loss: 0.0011\n",
            "Epoch 95/100\n",
            "1135/1135 [==============================] - 1s 691us/step - loss: 0.0011\n",
            "Epoch 96/100\n",
            "1135/1135 [==============================] - 1s 703us/step - loss: 0.0011\n",
            "Epoch 97/100\n",
            " 576/1135 [==============>...............] - ETA: 0s - loss: 0.0011"
          ],
          "name": "stdout"
        },
        {
          "output_type": "stream",
          "text": [
            "1135/1135 [==============================] - 1s 705us/step - loss: 0.0011\n",
            "Epoch 98/100\n",
            "1135/1135 [==============================] - 1s 705us/step - loss: 0.0011\n",
            "Epoch 99/100\n",
            "1135/1135 [==============================] - 1s 693us/step - loss: 0.0011\n",
            "Epoch 100/100\n",
            "1135/1135 [==============================] - 1s 684us/step - loss: 0.0011\n"
          ],
          "name": "stdout"
        },
        {
          "output_type": "execute_result",
          "data": {
            "text/plain": [
              "<keras.callbacks.History at 0x7f4654511828>"
            ]
          },
          "metadata": {
            "tags": []
          },
          "execution_count": 23
        }
      ]
    },
    {
      "metadata": {
        "id": "V_zSpYZxrcBy",
        "colab_type": "code",
        "colab": {
          "autoexec": {
            "startup": false,
            "wait_interval": 0
          },
          "base_uri": "https://localhost:8080/",
          "height": 17
        },
        "outputId": "067dd450-a08c-49c0-eea4-6ba69d13ef26",
        "executionInfo": {
          "status": "ok",
          "timestamp": 1531167638515,
          "user_tz": -360,
          "elapsed": 1234,
          "user": {
            "displayName": "",
            "photoUrl": "",
            "userId": ""
          }
        }
      },
      "cell_type": "code",
      "source": [
        "#test this model out\n",
        "trainPredictions = model.predict(trainX)\n",
        "testPredictions = model.predict(testX)\n",
        "#unscale predictions\n",
        "trainPredictions = scaler.inverse_transform(trainPredictions)\n",
        "testPredictions = scaler.inverse_transform(testPredictions)\n",
        "trainY = scaler.inverse_transform([trainY])\n",
        "testY = scaler.inverse_transform([testY])"
      ],
      "execution_count": 24,
      "outputs": []
    },
    {
      "metadata": {
        "id": "oHTv-2vMrcB1",
        "colab_type": "code",
        "colab": {
          "autoexec": {
            "startup": false,
            "wait_interval": 0
          },
          "base_uri": "https://localhost:8080/",
          "height": 51
        },
        "outputId": "61889cfc-0942-4a17-c2fd-c76f188be7e5",
        "executionInfo": {
          "status": "ok",
          "timestamp": 1531167651149,
          "user_tz": -360,
          "elapsed": 1137,
          "user": {
            "displayName": "",
            "photoUrl": "",
            "userId": ""
          }
        }
      },
      "cell_type": "code",
      "source": [
        "#lets calculate the root mean squared error\n",
        "trainScore = math.sqrt(mean_squared_error(trainY[0], trainPredictions[:, 0]))\n",
        "testScore = math.sqrt(mean_squared_error(testY[0], testPredictions[:, 0]))\n",
        "print('Train score: %.2f rmse', trainScore)\n",
        "print('Test score: %.2f rmse', testScore)\n",
        "\n"
      ],
      "execution_count": 25,
      "outputs": [
        {
          "output_type": "stream",
          "text": [
            "Train score: %.2f rmse 1.2681387606960457\n",
            "Test score: %.2f rmse 1.3636119634818817\n"
          ],
          "name": "stdout"
        }
      ]
    },
    {
      "metadata": {
        "id": "zbUw-mQprcB4",
        "colab_type": "code",
        "colab": {
          "autoexec": {
            "startup": false,
            "wait_interval": 0
          },
          "base_uri": "https://localhost:8080/",
          "height": 347
        },
        "outputId": "21dc9088-bba0-49c4-c9da-80a68a6e5d54",
        "executionInfo": {
          "status": "ok",
          "timestamp": 1531167657739,
          "user_tz": -360,
          "elapsed": 2022,
          "user": {
            "displayName": "",
            "photoUrl": "",
            "userId": ""
          }
        }
      },
      "cell_type": "code",
      "source": [
        "#lets plot the predictions on a graph and see how well it did\n",
        "train_plot = np.empty_like(msft_close)\n",
        "train_plot[:,:] = np.nan\n",
        "train_plot[series:len(trainPredictions)+series, :] = trainPredictions\n",
        "\n",
        "test_plot = np.empty_like(msft_close)\n",
        "test_plot[:,:] = np.nan\n",
        "test_plot[len(trainPredictions)+(series*2)+1:len(msft_close)-1, :] = testPredictions\n",
        "\n",
        "#plot on graph\n",
        "plt.plot(scaler.inverse_transform(msft_close))\n",
        "plt.plot(train_plot)\n",
        "plt.plot(test_plot)\n",
        "plt.show()\n"
      ],
      "execution_count": 26,
      "outputs": [
        {
          "output_type": "display_data",
          "data": {
            "image/png": "[encoded data removed]",
            "text/plain": [
              "<matplotlib.figure.Figure at 0x7f4631d944e0>"
            ]
          },
          "metadata": {
            "tags": []
          }
        }
      ]
    },
    {
      "metadata": {
        "id": "nqNYEGEKrcB8",
        "colab_type": "code",
        "colab": {
          "autoexec": {
            "startup": false,
            "wait_interval": 0
          }
        }
      },
      "cell_type": "code",
      "source": [
        ""
      ],
      "execution_count": 0,
      "outputs": []
    }
  ]
}